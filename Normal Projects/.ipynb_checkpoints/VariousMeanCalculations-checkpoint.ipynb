{
 "cells": [
  {
   "cell_type": "markdown",
   "id": "b3e9b931-b605-4a19-b7d9-9c25cd4ab4f5",
   "metadata": {},
   "source": [
    "**<font size=\"4\">Q 2.1 Consider the following three univariate data sets.</font>**\n",
    "\n",
    "**<font size=\"4\">X = {3,1,2,3,1,4,3,3}, Y = {1,4,3,1,1,3}, Z = {3,3,1,4,2,1,4,2}</font>**"
   ]
  },
  {
   "cell_type": "code",
   "execution_count": 4,
   "id": "51ed4838-c999-4297-9da5-cd52d380224a",
   "metadata": {},
   "outputs": [
    {
     "name": "stdout",
     "output_type": "stream",
     "text": [
      "Mean: μ(X) = 2.5, μ(Y) = 2.1666666666666665, μ(Z) = 2.5\n"
     ]
    }
   ],
   "source": [
    "# a) Write a code for the mean and find the following values: \n",
    "import numpy as np\n",
    "\n",
    "X = np.array([3,1,2,3,1,4,3,3])\n",
    "Y = np.array([1,4,3,1,1,3])\n",
    "Z = np.array([3,3,1,4,2,1,4,2])\n",
    "\n",
    "mean_X = np.mean(X)\n",
    "mean_Y = np.mean(Y)\n",
    "mean_Z = np.mean(Z)\n",
    "\n",
    "print(f\"Mean: μ(X) = {mean_X}, μ(Y) = {mean_Y}, μ(Z) = {mean_Z}\")"
   ]
  },
  {
   "cell_type": "code",
   "execution_count": 5,
   "id": "8f89ab98-22da-464c-afe2-c8f3f08f12d3",
   "metadata": {},
   "outputs": [
    {
     "name": "stdout",
     "output_type": "stream",
     "text": [
      "Harmonic Mean: μh(X) = 1.959183673469388, μh(Y) = 1.5319148936170213, μh(Z) = 1.9200000000000004\n"
     ]
    }
   ],
   "source": [
    "# b) Write a code for the harmonic mean and find the following values: \n",
    "from scipy.stats import hmean\n",
    "\n",
    "X = np.array([3,1,2,3,1,4,3,3])\n",
    "Y = np.array([1,4,3,1,1,3])\n",
    "Z = np.array([3,3,1,4,2,1,4,2])\n",
    "\n",
    "hmean_X = hmean(X)\n",
    "hmean_Y = hmean(Y)\n",
    "hmean_Z = hmean(Z)\n",
    "\n",
    "print(f\"Harmonic Mean: μh(X) = {hmean_X}, μh(Y) = {hmean_Y}, μh(Z) = {hmean_Z}\")"
   ]
  },
  {
   "cell_type": "code",
   "execution_count": 6,
   "id": "fd389423-61dc-4bc3-b10c-2eccd20d3128",
   "metadata": {},
   "outputs": [
    {
     "name": "stdout",
     "output_type": "stream",
     "text": [
      "Geometric Mean: μg(X) = 2.2461919979205445, μg(Y) = 1.8171205928321397, μg(Z) = 2.213363839400643\n"
     ]
    }
   ],
   "source": [
    "# c) Write a code for the geometric mean and find the following values:\n",
    "\n",
    "from scipy.stats import gmean\n",
    "\n",
    "X = np.array([3,1,2,3,1,4,3,3])\n",
    "Y = np.array([1,4,3,1,1,3])\n",
    "Z = np.array([3,3,1,4,2,1,4,2])\n",
    "\n",
    "gmean_X = gmean(X)\n",
    "gmean_Y = gmean(Y)\n",
    "gmean_Z = gmean(Z)\n",
    "\n",
    "print(f\"Geometric Mean: μg(X) = {gmean_X}, μg(Y) = {gmean_Y}, μg(Z) = {gmean_Z}\")"
   ]
  },
  {
   "cell_type": "code",
   "execution_count": 7,
   "id": "dc7150a3-3e45-49c7-926b-0eb3b5a9587f",
   "metadata": {},
   "outputs": [
    {
     "name": "stdout",
     "output_type": "stream",
     "text": [
      "Arithmetic-Geometric Mean: μag(X) = 2.373095998960272, μag(Y) = 1.991893629749403, μag(Z) = 2.3566819197003213\n"
     ]
    }
   ],
   "source": [
    "# d) Write a code for the arithmetic-geometric mean and find the following values:\n",
    "\n",
    "import numpy as np\n",
    "from scipy.stats import gmean\n",
    "\n",
    "X = np.array([3,1,2,3,1,4,3,3])\n",
    "Y = np.array([1,4,3,1,1,3])\n",
    "Z = np.array([3,3,1,4,2,1,4,2])\n",
    "\n",
    "def ag_mean(data):\n",
    "    return (np.mean(data) + gmean(data)) / 2\n",
    "\n",
    "ag_mean_X = ag_mean(X)\n",
    "ag_mean_Y = ag_mean(Y)\n",
    "ag_mean_Z = ag_mean(Z)\n",
    "\n",
    "print(f\"Arithmetic-Geometric Mean: μag(X) = {ag_mean_X}, μag(Y) = {ag_mean_Y}, μag(Z) = {ag_mean_Z}\")"
   ]
  },
  {
   "cell_type": "code",
   "execution_count": 8,
   "id": "45491e71-e434-4eee-ba20-688856784494",
   "metadata": {},
   "outputs": [
    {
     "name": "stdout",
     "output_type": "stream",
     "text": [
      "Arithmetic-Harmonic-Geometric Mean: μahg(X) = 2.235125223796644, μahg(Y) = 1.8385673843719426, μahg(Z) = 2.211121279800214\n"
     ]
    }
   ],
   "source": [
    "# e) Write a code for the arithmetic-harmonic-geometric mean and find the following values:\n",
    "\n",
    "import numpy as np\n",
    "from scipy.stats import gmean\n",
    "\n",
    "X = np.array([3,1,2,3,1,4,3,3])\n",
    "Y = np.array([1,4,3,1,1,3])\n",
    "Z = np.array([3,3,1,4,2,1,4,2])\n",
    "\n",
    "def ahg_mean(data):\n",
    "    return (np.mean(data) + hmean(data) + gmean(data)) / 3\n",
    "\n",
    "ahg_mean_X = ahg_mean(X)\n",
    "ahg_mean_Y = ahg_mean(Y)\n",
    "ahg_mean_Z = ahg_mean(Z)\n",
    "\n",
    "print(f\"Arithmetic-Harmonic-Geometric Mean: μahg(X) = {ahg_mean_X}, μahg(Y) = {ahg_mean_Y}, μahg(Z) = {ahg_mean_Z}\")"
   ]
  },
  {
   "cell_type": "code",
   "execution_count": 9,
   "id": "b5faa5b2-4b06-439d-a2f3-e26107f111a1",
   "metadata": {},
   "outputs": [
    {
     "name": "stdout",
     "output_type": "stream",
     "text": [
      "Median: μi(X) = 3.0, μi(Y) = 2.0, μi(Z) = 2.5\n"
     ]
    }
   ],
   "source": [
    "# f) Write a code for the median and find the following values:\n",
    "\n",
    "import numpy as np\n",
    "\n",
    "X = np.array([3,1,2,3,1,4,3,3])\n",
    "Y = np.array([1,4,3,1,1,3])\n",
    "Z = np.array([3,3,1,4,2,1,4,2])\n",
    "\n",
    "median_X = np.median(X)\n",
    "median_Y = np.median(Y)\n",
    "median_Z = np.median(Z)\n",
    "\n",
    "print(f\"Median: μi(X) = {median_X}, μi(Y) = {median_Y}, μi(Z) = {median_Z}\")"
   ]
  },
  {
   "cell_type": "code",
   "execution_count": 16,
   "id": "4c5f4244-10a3-4587-b4d1-b6270fd0e47e",
   "metadata": {},
   "outputs": [
    {
     "name": "stdout",
     "output_type": "stream",
     "text": [
      "Mode: μo(X) = 3, μo(Y) = 1, μo(Z) = 1\n"
     ]
    }
   ],
   "source": [
    "# g) Write a code for the mode and find the following values:\n",
    "\n",
    "import numpy as np\n",
    "from scipy import stats\n",
    "\n",
    "X = np.array([3,1,2,3,1,4,3,3])\n",
    "Y = np.array([1,4,3,1,1,3])\n",
    "Z = np.array([3,3,1,4,2,1,4,2])\n",
    "\n",
    "mode_X = stats.mode(X)[0]\n",
    "mode_Y = stats.mode(Y)[0]\n",
    "mode_Z = stats.mode(Z)[0]\n",
    "\n",
    "print(f\"Mode: μo(X) = {mode_X}, μo(Y) = {mode_Y}, μo(Z) = {mode_Z}\")"
   ]
  },
  {
   "cell_type": "code",
   "execution_count": 17,
   "id": "efb1e357-9e9a-469d-9cca-21bd5e915956",
   "metadata": {},
   "outputs": [
    {
     "name": "stdout",
     "output_type": "stream",
     "text": [
      "Midpoint: μm(X) = 2.5, μm(Y) = 2.5, μm(Z) = 2.5\n"
     ]
    }
   ],
   "source": [
    "# h) Write a code for the midpoint and find the following values:\n",
    "\n",
    "import numpy as np\n",
    "from scipy import stats\n",
    "\n",
    "X = np.array([3,1,2,3,1,4,3,3])\n",
    "Y = np.array([1,4,3,1,1,3])\n",
    "Z = np.array([3,3,1,4,2,1,4,2])\n",
    "\n",
    "midpoint_X = (np.max(X) + np.min(X)) / 2\n",
    "midpoint_Y = (np.max(Y) + np.min(Y)) / 2\n",
    "midpoint_Z = (np.max(Z) + np.min(Z)) / 2\n",
    "\n",
    "print(f\"Midpoint: μm(X) = {midpoint_X}, μm(Y) = {midpoint_Y}, μm(Z) = {midpoint_Z}\")"
   ]
  },
  {
   "cell_type": "code",
   "execution_count": 22,
   "id": "792444e3-9b86-47b2-8ee8-780d2e64d254",
   "metadata": {},
   "outputs": [
    {
     "name": "stdout",
     "output_type": "stream",
     "text": [
      "Trimmed Midpoint (25% to 75%): μm(X) = 2.5, μm(Y) = 2.0, μm(Z) = 2.5\n",
      "Exclusive Quartiles: \n",
      "xQ1(X) = 1.5, xQ3(X) = 3.0\n",
      "xQ1(Y) = 1.0, xQ3(Y) = 3.0\n",
      "xQ1(Z) = 1.5, xQ3(Z) = 3.5\n",
      "Inclusive Quartiles: \n",
      "iQ1(X) = 1.5, iQ3(X) = 3.0\n",
      "iQ1(Y) = 1.0, iQ3(Y) = 3.0\n",
      "iQ1(Z) = 1.5, iQ3(Z) = 3.5\n"
     ]
    }
   ],
   "source": [
    "# i) Write a code for the p% trimmed midpoint and find the following values:\n",
    "# j) Write a code for the exclusive quartiles and find the following values:\n",
    "# k) Write a code for the inclusive quartiles and find the following values:\n",
    "\n",
    "import numpy as np\n",
    "from scipy import stats\n",
    "\n",
    "X = np.array([3,1,2,3,1,4,3,3])\n",
    "Y = np.array([1,4,3,1,1,3])\n",
    "Z = np.array([3,3,1,4,2,1,4,2])\n",
    "\n",
    "def trimmed_midpoint(data, trim_percent):\n",
    "    lower_bound = int(trim_percent * len(data))\n",
    "    upper_bound = int((1 - trim_percent) * len(data))\n",
    "    trimmed_data = np.sort(data)[lower_bound:upper_bound]\n",
    "    return (np.max(trimmed_data) + np.min(trimmed_data)) / 2\n",
    "\n",
    "trimmed_midpoint_X = trimmed_midpoint(X, 0.25)\n",
    "trimmed_midpoint_Y = trimmed_midpoint(Y, 0.25)\n",
    "trimmed_midpoint_Z = trimmed_midpoint(Z, 0.25)\n",
    "\n",
    "# Exclusive Quartiles (j) - using np.percentile with interpolation='midpoint'\n",
    "exclusive_quartile_X = np.percentile(X, [25, 75], interpolation='midpoint')\n",
    "exclusive_quartile_Y = np.percentile(Y, [25, 75], interpolation='midpoint')\n",
    "exclusive_quartile_Z = np.percentile(Z, [25, 75], interpolation='midpoint')\n",
    "\n",
    "# Inclusive Quartiles (k) - using np.percentile with interpolation='midpoint'\n",
    "inclusive_quartile_X = np.percentile(X, [25, 75], interpolation='midpoint')\n",
    "inclusive_quartile_Y = np.percentile(Y, [25, 75], interpolation='midpoint')\n",
    "inclusive_quartile_Z = np.percentile(Z, [25, 75], interpolation='midpoint')\n",
    "\n",
    "print(f\"Trimmed Midpoint (25% to 75%): μm(X) = {trimmed_midpoint_X}, μm(Y) = {trimmed_midpoint_Y}, μm(Z) = {trimmed_midpoint_Z}\")\n",
    "print(f\"Exclusive Quartiles: \\nxQ1(X) = {exclusive_quartile_X[0]}, xQ3(X) = {exclusive_quartile_X[1]}\")\n",
    "print(f\"xQ1(Y) = {exclusive_quartile_Y[0]}, xQ3(Y) = {exclusive_quartile_Y[1]}\")\n",
    "print(f\"xQ1(Z) = {exclusive_quartile_Z[0]}, xQ3(Z) = {exclusive_quartile_Z[1]}\")\n",
    "print(f\"Inclusive Quartiles: \\niQ1(X) = {inclusive_quartile_X[0]}, iQ3(X) = {inclusive_quartile_X[1]}\")\n",
    "print(f\"iQ1(Y) = {inclusive_quartile_Y[0]}, iQ3(Y) = {inclusive_quartile_Y[1]}\")\n",
    "print(f\"iQ1(Z) = {inclusive_quartile_Z[0]}, iQ3(Z) = {inclusive_quartile_Z[1]}\")"
   ]
  },
  {
   "cell_type": "code",
   "execution_count": 28,
   "id": "620c2210-9697-49fe-b910-bd9d283c7b33",
   "metadata": {},
   "outputs": [
    {
     "name": "stdout",
     "output_type": "stream",
     "text": [
      "Entity-Proportional Quartiles:\n",
      "eQ1(X) = 1.50, eQ3(X) = 3.00\n",
      "eQ1(Y) = 1.00, eQ3(Y) = 3.00\n",
      "eQ1(Z) = 1.50, eQ3(Z) = 3.50\n",
      "\n",
      "Scale-Proportional Quartiles:\n",
      "sQ1(X) = 1.75, sQ3(X) = 3.00\n",
      "sQ1(Y) = 1.00, sQ3(Y) = 3.00\n",
      "sQ1(Z) = 1.75, sQ3(Z) = 3.25\n"
     ]
    }
   ],
   "source": [
    "# l) Write a code for the entity proportional quartiles and find the following values:\n",
    "# m) Write a code for the scale proportional quartiles and find the following values:\n",
    "\n",
    "import math\n",
    "import numpy as np\n",
    "from scipy import stats\n",
    "\n",
    "X = np.array([3,1,2,3,1,4,3,3])\n",
    "Y = np.array([1,4,3,1,1,3])\n",
    "Z = np.array([3,3,1,4,2,1,4,2])\n",
    "\n",
    "# Entity-Proportional Quartiles Function\n",
    "def entity_proportional_quartiles(data):\n",
    "    n = len(data)\n",
    "    sorted_data = np.sort(data)\n",
    "    \n",
    "    # Using the specific formula provided in the image for entity-proportional quartiles\n",
    "    q1 = (4 - (n + 2) % 4) / 4 * sorted_data[math.floor((n + 2) / 4) - 1] + \\\n",
    "         ((n + 2) % 4) / 4 * sorted_data[math.ceil((n + 2) / 4) - 1]\n",
    "    \n",
    "    q3 = ((n + 2) % 4) / 4 * sorted_data[math.floor((3 * n + 2) / 4) - 1] + \\\n",
    "         (4 - (n + 2) % 4) / 4 * sorted_data[math.ceil((3 * n + 2) / 4) - 1]\n",
    "    \n",
    "    return q1, q3\n",
    "\n",
    "# Scale-Proportional Quartiles Function\n",
    "def scale_proportional_quartiles(data):\n",
    "    n = len(data)\n",
    "    sorted_data = np.sort(data)\n",
    "    \n",
    "    # Using the specific formula provided in the image for scale-proportional quartiles\n",
    "    q1 = (4 - (n - 1) % 4) / 4 * sorted_data[math.floor((n - 1) / 4)] + \\\n",
    "         ((n - 1) % 4) / 4 * sorted_data[math.ceil((n - 1) / 4)]\n",
    "    \n",
    "    q3 = ((n - 1) % 4) / 4 * sorted_data[math.floor((3 * n - 3) / 4)] + \\\n",
    "         (4 - (n - 1) % 4) / 4 * sorted_data[math.ceil((3 * n - 3) / 4)]\n",
    "    \n",
    "    return q1, q3\n",
    "\n",
    "# Entity-Proportional Quartiles for X, Y, Z\n",
    "eQ1_X, eQ3_X = entity_proportional_quartiles(X)\n",
    "eQ1_Y, eQ3_Y = entity_proportional_quartiles(Y)\n",
    "eQ1_Z, eQ3_Z = entity_proportional_quartiles(Z)\n",
    "\n",
    "# Scale-Proportional Quartiles for X, Y, Z\n",
    "sQ1_X, sQ3_X = scale_proportional_quartiles(X)\n",
    "sQ1_Y, sQ3_Y = scale_proportional_quartiles(Y)\n",
    "sQ1_Z, sQ3_Z = scale_proportional_quartiles(Z)\n",
    "\n",
    "# Printing results\n",
    "print(f\"Entity-Proportional Quartiles:\")\n",
    "print(f\"eQ1(X) = {eQ1_X:.2f}, eQ3(X) = {eQ3_X:.2f}\")\n",
    "print(f\"eQ1(Y) = {eQ1_Y:.2f}, eQ3(Y) = {eQ3_Y:.2f}\")\n",
    "print(f\"eQ1(Z) = {eQ1_Z:.2f}, eQ3(Z) = {eQ3_Z:.2f}\")\n",
    "\n",
    "print(f\"\\nScale-Proportional Quartiles:\")\n",
    "print(f\"sQ1(X) = {sQ1_X:.2f}, sQ3(X) = {sQ3_X:.2f}\")\n",
    "print(f\"sQ1(Y) = {sQ1_Y:.2f}, sQ3(Y) = {sQ3_Y:.2f}\")\n",
    "print(f\"sQ1(Z) = {sQ1_Z:.2f}, sQ3(Z) = {sQ3_Z:.2f}\")"
   ]
  },
  {
   "cell_type": "code",
   "execution_count": null,
   "id": "9f7b0c76-1d50-41e2-b908-cc3ac14fc632",
   "metadata": {},
   "outputs": [],
   "source": []
  }
 ],
 "metadata": {
  "kernelspec": {
   "display_name": "Python 3 (ipykernel)",
   "language": "python",
   "name": "python3"
  },
  "language_info": {
   "codemirror_mode": {
    "name": "ipython",
    "version": 3
   },
   "file_extension": ".py",
   "mimetype": "text/x-python",
   "name": "python",
   "nbconvert_exporter": "python",
   "pygments_lexer": "ipython3",
   "version": "3.12.2"
  }
 },
 "nbformat": 4,
 "nbformat_minor": 5
}
