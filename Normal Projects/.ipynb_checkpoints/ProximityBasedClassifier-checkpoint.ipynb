{
 "cells": [
  {
   "cell_type": "markdown",
   "id": "7595f187-0c13-4b02-9558-c3253886aefe",
   "metadata": {},
   "source": [
    "**<font size=\"4\">Q 2.1 Consider the following data set, S dataset. Answer the questions by hands and provide a program.</font>**"
   ]
  },
  {
   "cell_type": "code",
   "execution_count": 3,
   "id": "c6e88941-ac5c-4e04-b34e-8f7280447671",
   "metadata": {},
   "outputs": [],
   "source": [
    "from sklearn.neighbors import KNeighborsClassifier\n",
    "import numpy as np\n",
    "R = [[1, 2], [3, 3], [5, 4], [6, 4], [2, 1], [7, 2], [6, 1]]\n",
    "T = [0, 0, 0, 0, 1, 1, 1]\n",
    "class_name = [\"a\", \"b\"]\n",
    "q = [3, 1]"
   ]
  },
  {
   "cell_type": "markdown",
   "id": "74314d42-5783-4a6f-867d-4e6fa6cf7d07",
   "metadata": {},
   "source": [
    "**<font size=\"3\">a). What does the nearest neighbor classifier classifies a query instance (3, 1) if Euclidean \n",
    "L2 distance is used.</font>**"
   ]
  },
  {
   "cell_type": "code",
   "execution_count": 15,
   "id": "394ad9c1-6c26-49bd-a609-e048494595a8",
   "metadata": {},
   "outputs": [
    {
     "name": "stdout",
     "output_type": "stream",
     "text": [
      "0\n",
      "a\n"
     ]
    }
   ],
   "source": [
    "def Minkowski(x, y, p):\n",
    "    return np.sum(abs(x - y)**p)**(1/p)\n",
    "\n",
    "def NNC(R, T, q, p):\n",
    "    D = []\n",
    "    for ri in R:\n",
    "        D.append(Minkowski(np.array(ri), np.array(q), p))\n",
    "        return T[np.argmin(D)]\n",
    "print(NNC(R, T, q, 2))\n",
    "print(class_name[NNC(R, T, q, 2)])"
   ]
  },
  {
   "cell_type": "markdown",
   "id": "1fa92fa9-23d1-49e4-841d-1c4515560727",
   "metadata": {},
   "source": [
    "**<font size=\"3\">b). What does the (k = 3)-NN algorithm classifies a query instance (3, 1) if Euclidean L2 distance is used.</font>**"
   ]
  },
  {
   "cell_type": "code",
   "execution_count": 30,
   "id": "b675232f-ada0-40f8-a55f-36958a1ad756",
   "metadata": {},
   "outputs": [
    {
     "name": "stdout",
     "output_type": "stream",
     "text": [
      "[0]\n"
     ]
    }
   ],
   "source": [
    "k3NNC = KNeighborsClassifier(n_neighbors=3)\n",
    "k3NNC.fit(R,T)\n",
    "print(k3NNC.predict([q]))"
   ]
  },
  {
   "cell_type": "markdown",
   "id": "9708b4da-3859-44c9-995a-954ad717704a",
   "metadata": {},
   "source": [
    "**<font size=\"3\">c). What does the (k = 5)-NN algorithm classifies a query instance (3, 1) if Euclidean L2 distance is used.</font>**"
   ]
  },
  {
   "cell_type": "code",
   "execution_count": 26,
   "id": "d5bc744e-e18c-4cb7-8f39-d37ed7e275ab",
   "metadata": {},
   "outputs": [
    {
     "name": "stdout",
     "output_type": "stream",
     "text": [
      "[0]\n"
     ]
    }
   ],
   "source": [
    "k5NNC = KNeighborsClassifier(n_neighbors=5)\n",
    "k5NNC.fit(R,T)\n",
    "print(k5NNC.predict([q]))"
   ]
  },
  {
   "cell_type": "markdown",
   "id": "d54cc412-1200-45da-b1f6-f24160abc6e5",
   "metadata": {},
   "source": [
    "**<font size=\"3\">d). What does the (s = 1) distance weighted (k = 5)-NN algorithm classifies a query \n",
    "instance (3, 1) if Euclidean L2 distance is used.</font>**"
   ]
  },
  {
   "cell_type": "code",
   "execution_count": 28,
   "id": "8a99587a-2922-4061-9220-301e4ceabad6",
   "metadata": {},
   "outputs": [
    {
     "name": "stdout",
     "output_type": "stream",
     "text": [
      "1\n"
     ]
    }
   ],
   "source": [
    "def dwk_NNC(R, T, q, k, m, s):\n",
    "    nc = max(T) + 1\n",
    "    D = []\n",
    "    for ri in R:\n",
    "        D.append(Minkowski(np.array(ri), np.array(q), m))\n",
    "    E = [i[0] for i in sorted(enumerate(D), key=lambda x:x[1])]\n",
    "    Nidx = E[:k]\n",
    "    Vn = [0] *nc\n",
    "    for ni in Nidx:\n",
    "        Vn[T[ni]] += 1/D[ni]**s\n",
    "    return np.argmax(Vn)\n",
    "print(dwk_NNC(R, T, q, 5, 2, 1))"
   ]
  },
  {
   "cell_type": "markdown",
   "id": "18de80df-a3a9-4dad-80c1-af00ab95cbf0",
   "metadata": {},
   "source": [
    "**<font size=\"3\">e). What does the (s = 2) distance weighted (k = 5)-NN algorithm classifies a query instance (3, 1) if Euclidean L2 distance is used.</font>**"
   ]
  },
  {
   "cell_type": "code",
   "execution_count": 31,
   "id": "c576c80d-0d70-432d-b962-d3fd88e90dc5",
   "metadata": {},
   "outputs": [
    {
     "name": "stdout",
     "output_type": "stream",
     "text": [
      "1\n"
     ]
    }
   ],
   "source": [
    "print(dwk_NNC(R, T, q, 5, 2, 2))"
   ]
  },
  {
   "cell_type": "markdown",
   "id": "f2ac63dc-b2be-4166-a500-464064f5b7c0",
   "metadata": {},
   "source": [
    "**<font size=\"3\">f). What does the (α = 0.2) geometric series weighted (k = 5) neighbor classifier classifies \n",
    "a query instance (3, 1) if Euclidean L2 distance is used.</font>**"
   ]
  },
  {
   "cell_type": "code",
   "execution_count": 33,
   "id": "0b8166f9-9f4e-4a06-b824-7612357664ca",
   "metadata": {},
   "outputs": [
    {
     "name": "stdout",
     "output_type": "stream",
     "text": [
      "0\n"
     ]
    }
   ],
   "source": [
    "def wk_NNC(R, T, q, k, m, W):\n",
    "    nc = max(T) + 1\n",
    "    D = []\n",
    "    for ri in R:\n",
    "        D.append(Minkowski(np.array(ri), np.array(q), m))\n",
    "    E = [i[0] for i in sorted(enumerate(D), key=lambda x:x[1])]\n",
    "    Vn = [0] *nc\n",
    "    for i in range(k):\n",
    "        Vn[T[E[i]]] += W[i]\n",
    "    return np.argmax(Vn)\n",
    "W = [0.2,0.16,0.13,0.1,0.08]\n",
    "print(wk_NNC(R, T, q, 5, 2, W))"
   ]
  },
  {
   "cell_type": "markdown",
   "id": "2f4d9536-ac0f-46c4-a717-257bdb3d0bbe",
   "metadata": {},
   "source": [
    "**<font size=\"3\">g). What does the linear rank weighted (k = 5) neighbor classifier (lan) classifies a query \n",
    "instance (3, 1) if Euclidean L2 distance is used.</font>**    "
   ]
  },
  {
   "cell_type": "code",
   "execution_count": 35,
   "id": "c670415a-1549-46f7-a076-e651939ec84b",
   "metadata": {},
   "outputs": [
    {
     "name": "stdout",
     "output_type": "stream",
     "text": [
      "0\n"
     ]
    }
   ],
   "source": [
    "W = [6,5,4,3,2]\n",
    "print(wk_NNC(R, T, q, 5, 2, W))"
   ]
  },
  {
   "cell_type": "markdown",
   "id": "05183c68-7ce7-40bc-a16c-edfc412f13c9",
   "metadata": {},
   "source": [
    "**<font size=\"3\">h). What does the (k = 3)-NN algorithm classifies a query instance (3, 1) if Manhattan \n",
    "L1 distance is used.</font>**    "
   ]
  },
  {
   "cell_type": "code",
   "execution_count": 39,
   "id": "e184e44d-0a90-4c1a-824e-bc8557ef7ba7",
   "metadata": {},
   "outputs": [
    {
     "name": "stdout",
     "output_type": "stream",
     "text": [
      "[0]\n"
     ]
    }
   ],
   "source": [
    "k3NNCL1 = KNeighborsClassifier(n_neighbors=3, p = 1)\n",
    "k3NNCL1.fit(R,T)\n",
    "print(k3NNCL1.predict([q]))"
   ]
  },
  {
   "cell_type": "markdown",
   "id": "da16a551-bbf4-48bd-ab39-7e3f6193c934",
   "metadata": {},
   "source": [
    "**<font size=\"3\">i). What does the (k = 3)-NN algorithm classifies a query instance (3, 1) if Minkowski \n",
    "(p = 3), L3 distance is used.</font>**    "
   ]
  },
  {
   "cell_type": "code",
   "execution_count": 45,
   "id": "55e093fc-491e-4525-a0b0-f788fe865811",
   "metadata": {},
   "outputs": [
    {
     "name": "stdout",
     "output_type": "stream",
     "text": [
      "[0]\n"
     ]
    }
   ],
   "source": [
    "k3NNCL3 = KNeighborsClassifier(n_neighbors=3, p = 3)\n",
    "k3NNCL3.fit(R,T)\n",
    "print(k3NNCL3.predict([q]))"
   ]
  },
  {
   "cell_type": "markdown",
   "id": "c55fed64-a762-4403-813e-a3294d40eb86",
   "metadata": {},
   "source": [
    "**<font size=\"3\">j). What does the (k = 3)-NN algorithm classifies a query instance (3, 1) if Minkowski (p = 0.5), L0.5 distance is used.</font>**    "
   ]
  },
  {
   "cell_type": "code",
   "execution_count": 46,
   "id": "9ffaa07e-5a80-4da4-8a6c-d08632e0b769",
   "metadata": {},
   "outputs": [
    {
     "name": "stdout",
     "output_type": "stream",
     "text": [
      "1\n"
     ]
    }
   ],
   "source": [
    "print(k_NNC(R, T, q, 3, 0.5))"
   ]
  },
  {
   "cell_type": "code",
   "execution_count": null,
   "id": "6107e237-3251-4ad4-bb37-a6968e87782a",
   "metadata": {},
   "outputs": [],
   "source": []
  }
 ],
 "metadata": {
  "kernelspec": {
   "display_name": "Python 3 (ipykernel)",
   "language": "python",
   "name": "python3"
  },
  "language_info": {
   "codemirror_mode": {
    "name": "ipython",
    "version": 3
   },
   "file_extension": ".py",
   "mimetype": "text/x-python",
   "name": "python",
   "nbconvert_exporter": "python",
   "pygments_lexer": "ipython3",
   "version": "3.12.2"
  }
 },
 "nbformat": 4,
 "nbformat_minor": 5
}
