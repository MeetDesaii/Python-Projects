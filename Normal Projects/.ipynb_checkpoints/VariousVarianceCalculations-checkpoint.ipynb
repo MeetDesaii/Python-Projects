{
 "cells": [
  {
   "cell_type": "markdown",
   "id": "5f5b6369-798b-4956-ac3d-3b94a0db07bd",
   "metadata": {},
   "source": [
    "**<font size=\"4\">Q 3.1 Consider the following three univariate data sets.</font>**\n",
    "\n",
    "**<font size=\"4\">X = {3,1,2,3,1,4,3,3}, Y = {1,4,3,1,1,3}, Z = {3,3,1,4,2,1,4,2}</font>**"
   ]
  },
  {
   "cell_type": "code",
   "execution_count": 3,
   "id": "546afe4a-ac17-419e-b839-f5b3feb69c33",
   "metadata": {},
   "outputs": [
    {
     "name": "stdout",
     "output_type": "stream",
     "text": [
      "a) Variance:\n",
      "σ²(X) = 1.0\n",
      "σ²(Y) = 1.4722222222222223\n",
      "σ²(Z) = 1.25\n",
      "s²(X) = 1.1428571428571428\n",
      "s²(Y) = 1.7666666666666668\n",
      "s²(Z) = 1.4285714285714286\n"
     ]
    }
   ],
   "source": [
    "# a) Write a code for the variance and find the following values:\n",
    "import numpy as np\n",
    "\n",
    "# Given data sets\n",
    "X = np.array([3, 1, 2, 3, 1, 4, 3, 3])\n",
    "Y = np.array([1, 4, 3, 1, 1, 3])\n",
    "Z = np.array([3, 3, 1, 4, 2, 1, 4, 2])\n",
    "\n",
    "# a) Variance\n",
    "def pvariance(data):\n",
    "    return np.var(data)\n",
    "\n",
    "def variance(data):\n",
    "    return np.var(data, ddof=1)\n",
    "\n",
    "print(f\"a) Variance:\")\n",
    "print(f\"σ²(X) = {pvariance(X)}\")\n",
    "print(f\"σ²(Y) = {pvariance(Y)}\")\n",
    "print(f\"σ²(Z) = {pvariance(Z)}\")\n",
    "print(f\"s²(X) = {variance(X)}\")\n",
    "print(f\"s²(Y) = {variance(Y)}\")\n",
    "print(f\"s²(Z) = {variance(Z)}\")"
   ]
  },
  {
   "cell_type": "code",
   "execution_count": 5,
   "id": "f654b897-98ee-4221-8f3f-8e97815b072c",
   "metadata": {},
   "outputs": [
    {
     "name": "stdout",
     "output_type": "stream",
     "text": [
      "a) Variance:\n",
      "σ(X) = 1.0\n",
      "σ(Y) = 1.2133516482134197\n",
      "σ(Z) = 1.118033988749895\n",
      "s(X) = 1.0690449676496976\n",
      "s(Y) = 1.3291601358251257\n",
      "s(Z) = 1.1952286093343936\n"
     ]
    }
   ],
   "source": [
    "# b) Write a code for the standard deviation and find the following values:\n",
    "import numpy as np\n",
    "\n",
    "# Given data sets\n",
    "X = np.array([3, 1, 2, 3, 1, 4, 3, 3])\n",
    "Y = np.array([1, 4, 3, 1, 1, 3])\n",
    "Z = np.array([3, 3, 1, 4, 2, 1, 4, 2])\n",
    "\n",
    "# b) Standard Deviation\n",
    "def pstdev(data):\n",
    "    return np.std(data)\n",
    "\n",
    "def stdev(data):\n",
    "    return np.std(data, ddof=1)\n",
    "\n",
    "print(f\"a) Variance:\")\n",
    "print(f\"σ(X) = {pstdev(X)}\")\n",
    "print(f\"σ(Y) = {pstdev(Y)}\")\n",
    "print(f\"σ(Z) = {pstdev(Z)}\")\n",
    "print(f\"s(X) = {stdev(X)}\")\n",
    "print(f\"s(Y) = {stdev(Y)}\")\n",
    "print(f\"s(Z) = {stdev(Z)}\")"
   ]
  },
  {
   "cell_type": "code",
   "execution_count": 6,
   "id": "1daeca9e-8792-4587-8d04-df333f8d85cc",
   "metadata": {},
   "outputs": [
    {
     "name": "stdout",
     "output_type": "stream",
     "text": [
      "\n",
      "c) MAD around mean:\n",
      "δ(X) = 0.875\n",
      "δ(Y) = 1.1666666666666667\n",
      "δ(Z) = 1.0\n"
     ]
    }
   ],
   "source": [
    "# c) Write a code for the MAD around mean, μ and find the following values:\n",
    "import numpy as np\n",
    "\n",
    "# Given data sets\n",
    "X = np.array([3, 1, 2, 3, 1, 4, 3, 3])\n",
    "Y = np.array([1, 4, 3, 1, 1, 3])\n",
    "Z = np.array([3, 3, 1, 4, 2, 1, 4, 2])\n",
    "\n",
    "# c) MAD around mean\n",
    "def mad_mean(data):\n",
    "    return np.mean(np.abs(data - np.mean(data)))\n",
    "\n",
    "print(f\"\\nc) MAD around mean:\")\n",
    "print(f\"δ(X) = {mad_mean(X)}\")\n",
    "print(f\"δ(Y) = {mad_mean(Y)}\")\n",
    "print(f\"δ(Z) = {mad_mean(Z)}\")"
   ]
  },
  {
   "cell_type": "code",
   "execution_count": 9,
   "id": "9df2661b-e563-47ab-ae1f-056a3f6d2a3f",
   "metadata": {},
   "outputs": [
    {
     "name": "stdout",
     "output_type": "stream",
     "text": [
      "\n",
      "d) MAD around median:\n",
      "δ₁(X) = 0.75\n",
      "δ₁(Y) = 1.1666666666666667\n",
      "δ₁(Z) = 1.0\n"
     ]
    }
   ],
   "source": [
    "# d) Write a code for the MAD around median, μi and find the following values:\n",
    "import numpy as np\n",
    "\n",
    "# Given data sets\n",
    "X = np.array([3, 1, 2, 3, 1, 4, 3, 3])\n",
    "Y = np.array([1, 4, 3, 1, 1, 3])\n",
    "Z = np.array([3, 3, 1, 4, 2, 1, 4, 2])\n",
    "\n",
    "# d) MAD around median\n",
    "def mad_median(data):\n",
    "    return np.mean(np.abs(data - np.median(data)))\n",
    "\n",
    "print(f\"\\nd) MAD around median:\")\n",
    "print(f\"δ₁(X) = {mad_median(X)}\")\n",
    "print(f\"δ₁(Y) = {mad_median(Y)}\")\n",
    "print(f\"δ₁(Z) = {mad_median(Z)}\")"
   ]
  },
  {
   "cell_type": "code",
   "execution_count": 8,
   "id": "51498aa4-6a8a-4ebb-833b-355a9b33d0e9",
   "metadata": {},
   "outputs": [
    {
     "name": "stdout",
     "output_type": "stream",
     "text": [
      "\n",
      "e) MAD around mode:\n",
      "δₒ(X) = 0.75\n",
      "δₒ(Y) = 1.1666666666666667\n",
      "δₒ(Z) = 1.5\n"
     ]
    }
   ],
   "source": [
    "# e) Write a code for the MAD around mode, μo and find the following values:\n",
    "import numpy as np\n",
    "\n",
    "# Given data sets\n",
    "X = np.array([3, 1, 2, 3, 1, 4, 3, 3])\n",
    "Y = np.array([1, 4, 3, 1, 1, 3])\n",
    "Z = np.array([3, 3, 1, 4, 2, 1, 4, 2])\n",
    "\n",
    "# e) MAD around mode\n",
    "def mad_mode(data):\n",
    "    mode = np.bincount(data).argmax()\n",
    "    return np.mean(np.abs(data - mode))\n",
    "\n",
    "print(f\"\\ne) MAD around mode:\")\n",
    "print(f\"δₒ(X) = {mad_mode(X)}\")\n",
    "print(f\"δₒ(Y) = {mad_mode(Y)}\")\n",
    "print(f\"δₒ(Z) = {mad_mode(Z)}\")"
   ]
  },
  {
   "cell_type": "code",
   "execution_count": 15,
   "id": "cdd45b3e-38ce-4ad8-bd13-945122c02cbb",
   "metadata": {},
   "outputs": [
    {
     "name": "stdout",
     "output_type": "stream",
     "text": [
      "\n",
      "f) Generalized MPAD:\n",
      "δ₂₁(X) = 1.25\n",
      "δ₂₁(Y) = 1.5\n",
      "δ₂₁(Z) = 1.25\n",
      "δ₃(X) = 1.34375\n",
      "δ₃(Y) = 2.013888888888889\n",
      "δ₃(Z) = 1.75\n"
     ]
    }
   ],
   "source": [
    "# f) Write a code for the generalized MPAD, the mean of pth power absolute deviation which takes p and center point as inputs: MPAD(X, p, μx). Find the following values:\n",
    "import numpy as np\n",
    "\n",
    "# Given data sets\n",
    "X = np.array([3, 1, 2, 3, 1, 4, 3, 3])\n",
    "Y = np.array([1, 4, 3, 1, 1, 3])\n",
    "Z = np.array([3, 3, 1, 4, 2, 1, 4, 2])\n",
    "\n",
    "# f) Generalized MPAD\n",
    "def mpad(data, p, center):\n",
    "    return np.mean(np.abs(data - center) ** p)\n",
    "\n",
    "print(f\"\\nf) Generalized MPAD:\")\n",
    "print(f\"δ₂₁(X) = {mpad(X, 2, np.median(X))}\")\n",
    "print(f\"δ₂₁(Y) = {mpad(Y, 2, np.median(Y))}\")\n",
    "print(f\"δ₂₁(Z) = {mpad(Z, 2, np.median(Z))}\")\n",
    "print(f\"δ₃(X) = {mpad(X, 3, np.mean(X))}\")\n",
    "print(f\"δ₃(Y) = {mpad(Y, 3, np.mean(Y))}\")\n",
    "print(f\"δ₃(Z) = {mpad(Z, 3, np.mean(Z))}\")"
   ]
  },
  {
   "cell_type": "code",
   "execution_count": 16,
   "id": "4578921d-73dd-4a42-b786-7d9d28cf9527",
   "metadata": {},
   "outputs": [
    {
     "name": "stdout",
     "output_type": "stream",
     "text": [
      "\n",
      "g) Interquartile Range:\n",
      "IQR(X) = 1.25\n",
      "IQR(Y) = 2.0\n",
      "IQR(Z) = 1.5\n"
     ]
    }
   ],
   "source": [
    "# g) Write a code for the interquartile range and find the following values:\n",
    "import numpy as np\n",
    "\n",
    "# Given data sets\n",
    "X = np.array([3, 1, 2, 3, 1, 4, 3, 3])\n",
    "Y = np.array([1, 4, 3, 1, 1, 3])\n",
    "Z = np.array([3, 3, 1, 4, 2, 1, 4, 2])\n",
    "\n",
    "# g) Interquartile Range\n",
    "def iqr(data):\n",
    "    return np.percentile(data, 75) - np.percentile(data, 25)\n",
    "\n",
    "print(f\"\\ng) Interquartile Range:\")\n",
    "print(f\"IQR(X) = {iqr(X)}\")\n",
    "print(f\"IQR(Y) = {iqr(Y)}\")\n",
    "print(f\"IQR(Z) = {iqr(Z)}\")"
   ]
  },
  {
   "cell_type": "code",
   "execution_count": 17,
   "id": "037f76cd-cf19-4e9d-b127-8832962f73f7",
   "metadata": {},
   "outputs": [
    {
     "name": "stdout",
     "output_type": "stream",
     "text": [
      "\n",
      "h) Quartile-based Skewness:\n",
      "sq(X) = -1.0\n",
      "sq(Y) = 0.0\n",
      "sq(Z) = 0.0\n"
     ]
    }
   ],
   "source": [
    "# h) Write a code for the quartile based skewness and find the following values:\n",
    "import numpy as np\n",
    "\n",
    "# Given data sets\n",
    "X = np.array([3, 1, 2, 3, 1, 4, 3, 3])\n",
    "Y = np.array([1, 4, 3, 1, 1, 3])\n",
    "Z = np.array([3, 3, 1, 4, 2, 1, 4, 2])\n",
    "\n",
    "def quartile_skewness(data):\n",
    "    q1, q2, q3 = np.percentile(data, [25, 50, 75])\n",
    "    return ((q3 - q2) - (q2 - q1)) / (q3 - q1)\n",
    "\n",
    "print(f\"\\nh) Quartile-based Skewness:\")\n",
    "print(f\"sq(X) = {quartile_skewness(X)}\")\n",
    "print(f\"sq(Y) = {quartile_skewness(Y)}\")\n",
    "print(f\"sq(Z) = {quartile_skewness(Z)}\")"
   ]
  },
  {
   "cell_type": "code",
   "execution_count": 25,
   "id": "e658df5a-4522-4cc4-80a2-55dec95d0608",
   "metadata": {},
   "outputs": [
    {
     "name": "stdout",
     "output_type": "stream",
     "text": [
      "Pearson's First Skewness (X): -0.5\n",
      "Pearson's First Skewness (Y): 0.961523947640823\n",
      "Pearson's First Skewness (Z): 1.3416407864998738\n"
     ]
    }
   ],
   "source": [
    "# i) Write a code for the Pearson’s first skewness and find the following values:\n",
    "import numpy as np\n",
    "from scipy import stats\n",
    "\n",
    "# Given data sets\n",
    "X = np.array([3, 1, 2, 3, 1, 4, 3, 3])\n",
    "Y = np.array([1, 4, 3, 1, 1, 3])\n",
    "Z = np.array([3, 3, 1, 4, 2, 1, 4, 2])\n",
    "\n",
    "# Pearson's First Skewness\n",
    "def pearsons_first_skewness(data):\n",
    "    mean = np.mean(data)\n",
    "    mode = stats.mode(data)[0]\n",
    "    std_dev = np.std(data)\n",
    "    skewness = (mean - mode) / std_dev\n",
    "    return skewness\n",
    "\n",
    "# Pearson's First Skewness\n",
    "print(\"Pearson's First Skewness (X):\", pearsons_first_skewness(X))\n",
    "print(\"Pearson's First Skewness (Y):\", pearsons_first_skewness(Y))\n",
    "print(\"Pearson's First Skewness (Z):\", pearsons_first_skewness(Z))"
   ]
  },
  {
   "cell_type": "code",
   "execution_count": 27,
   "id": "e0dcbe29-549c-4692-b0a6-2db722f056fa",
   "metadata": {},
   "outputs": [
    {
     "name": "stdout",
     "output_type": "stream",
     "text": [
      "Pearson's Second Skewness (X): -1.5\n",
      "Pearson's Second Skewness (Y): 0.41208169184606674\n",
      "Pearson's Second Skewness (Z): 0.0\n"
     ]
    }
   ],
   "source": [
    "# j) Write a code for the Pearson’s second skewness and find the following values:\n",
    "import numpy as np\n",
    "from scipy import stats\n",
    "\n",
    "# Given data sets\n",
    "X = np.array([3, 1, 2, 3, 1, 4, 3, 3])\n",
    "Y = np.array([1, 4, 3, 1, 1, 3])\n",
    "Z = np.array([3, 3, 1, 4, 2, 1, 4, 2])\n",
    "\n",
    "# Pearson's Second Skewness\n",
    "def pearsons_second_skewness(data):\n",
    "    mean = np.mean(data)\n",
    "    median = np.median(data)\n",
    "    std_dev = np.std(data)\n",
    "    skewness = 3 * (mean - median) / std_dev\n",
    "    return skewness\n",
    "\n",
    "# Pearson's Second Skewness\n",
    "print(\"Pearson's Second Skewness (X):\", pearsons_second_skewness(X))\n",
    "print(\"Pearson's Second Skewness (Y):\", pearsons_second_skewness(Y))\n",
    "print(\"Pearson's Second Skewness (Z):\", pearsons_second_skewness(Z))\n"
   ]
  },
  {
   "cell_type": "code",
   "execution_count": 28,
   "id": "fed5fd54-983e-49fa-9a24-61da9aee804d",
   "metadata": {},
   "outputs": [
    {
     "name": "stdout",
     "output_type": "stream",
     "text": [
      "Groeneveld & Meeden's Coefficient (X): -0.6666666666666666\n",
      "Groeneveld & Meeden's Coefficient (Y): 0.1428571428571427\n",
      "Groeneveld & Meeden's Coefficient (Z): 0.0\n"
     ]
    }
   ],
   "source": [
    "# k) Write a code for the Groeneveld & Meeden’s coefficient and find the following values:\n",
    "import numpy as np\n",
    "from scipy import stats\n",
    "\n",
    "# Given data sets\n",
    "X = np.array([3, 1, 2, 3, 1, 4, 3, 3])\n",
    "Y = np.array([1, 4, 3, 1, 1, 3])\n",
    "Z = np.array([3, 3, 1, 4, 2, 1, 4, 2])\n",
    "\n",
    "# Groeneveld & Meeden’s coefficient\n",
    "def groeneveld_meeden(data):\n",
    "    median = np.median(data)\n",
    "    mean = np.mean(data)\n",
    "    MADI = np.mean(np.abs(data - median))  # Mean absolute deviation from the median\n",
    "    coefficient = (mean - median) / MADI\n",
    "    return coefficient\n",
    "\n",
    "# Groeneveld & Meeden’s coefficient\n",
    "print(\"Groeneveld & Meeden's Coefficient (X):\", groeneveld_meeden(X))\n",
    "print(\"Groeneveld & Meeden's Coefficient (Y):\", groeneveld_meeden(Y))\n",
    "print(\"Groeneveld & Meeden's Coefficient (Z):\", groeneveld_meeden(Z))"
   ]
  },
  {
   "cell_type": "code",
   "execution_count": 29,
   "id": "510f7644-de13-41a5-b616-7d1516a60f5d",
   "metadata": {},
   "outputs": [
    {
     "name": "stdout",
     "output_type": "stream",
     "text": [
      "Pearson's Moment Coefficient (X): -0.375\n",
      "Pearson's Moment Coefficient (Y): 0.23843720534489454\n",
      "Pearson's Moment Coefficient (Z): 0.0\n"
     ]
    }
   ],
   "source": [
    "# l) Write a code for the Pearsons moment coefficient and find the following values:\n",
    "import numpy as np\n",
    "from scipy import stats\n",
    "\n",
    "# Given data sets\n",
    "X = np.array([3, 1, 2, 3, 1, 4, 3, 3])\n",
    "Y = np.array([1, 4, 3, 1, 1, 3])\n",
    "Z = np.array([3, 3, 1, 4, 2, 1, 4, 2])\n",
    "\n",
    "# Pearson’s Moment Coefficient (Third Moment - Skewness)\n",
    "def pearsons_moment_coefficient(data):\n",
    "    skewness = stats.skew(data)\n",
    "    return skewness\n",
    "\n",
    "# Pearson’s Moment Coefficient (Third Moment)\n",
    "print(\"Pearson's Moment Coefficient (X):\", pearsons_moment_coefficient(X))\n",
    "print(\"Pearson's Moment Coefficient (Y):\", pearsons_moment_coefficient(Y))\n",
    "print(\"Pearson's Moment Coefficient (Z):\", pearsons_moment_coefficient(Z))"
   ]
  },
  {
   "cell_type": "code",
   "execution_count": 30,
   "id": "0521df6d-d70d-4b8f-ba06-7c8df8cd48aa",
   "metadata": {},
   "outputs": [
    {
     "name": "stdout",
     "output_type": "stream",
     "text": [
      "Kurtosis (X): 1.9375\n",
      "Kurtosis (Y): 1.3702385190459234\n",
      "Kurtosis (Z): 1.64\n"
     ]
    }
   ],
   "source": [
    "# m) Write a code for the Kurtosis (sharpness) and find the following values:\n",
    "import numpy as np\n",
    "from scipy import stats\n",
    "\n",
    "# Given data sets\n",
    "X = np.array([3, 1, 2, 3, 1, 4, 3, 3])\n",
    "Y = np.array([1, 4, 3, 1, 1, 3])\n",
    "Z = np.array([3, 3, 1, 4, 2, 1, 4, 2])\n",
    "\n",
    "# Kurtosis (Sharpness)\n",
    "def kurtosis(data):\n",
    "    return stats.kurtosis(data, fisher=False)  # fisher=False for the classic kurtosis\n",
    "\n",
    "# Kurtosis (Sharpness)\n",
    "print(\"Kurtosis (X):\", kurtosis(X))\n",
    "print(\"Kurtosis (Y):\", kurtosis(Y))\n",
    "print(\"Kurtosis (Z):\", kurtosis(Z))"
   ]
  },
  {
   "cell_type": "code",
   "execution_count": 68,
   "id": "0afc6a16-3226-4fc7-ae30-fb1ecfb67cd6",
   "metadata": {},
   "outputs": [
    {
     "name": "stdout",
     "output_type": "stream",
     "text": [
      "PSMC(X, 3, mean(X)): -2.0\n",
      "PSMC(Y, 3, mean(Y)): 0.6531106059447102\n",
      "PSMC(Z, 3, mean(Z)): 0.0\n"
     ]
    }
   ],
   "source": [
    "# n) Write a code for the p degree standardized moment coefficient which takes p and center point as inputs: (X, p, μx). Find the following values:\n",
    "import numpy as np\n",
    "from scipy import stats\n",
    "\n",
    "# Given data sets\n",
    "X = np.array([3, 1, 2, 3, 1, 4, 3, 3])\n",
    "Y = np.array([1, 4, 3, 1, 1, 3])\n",
    "Z = np.array([3, 3, 1, 4, 2, 1, 4, 2])\n",
    "\n",
    "# Standardized Moment Coefficient (PSMC)\n",
    "def p_degree_standardized_moment_coefficient(data, p, mu):\n",
    "    mean = np.mean(data)\n",
    "    std_dev = np.std(data)\n",
    "    mode = stats.mode(data)[0]\n",
    "    PSMC = np.mean(((data - mu) ** p) / std_dev ** p)\n",
    "    return PSMC\n",
    "\n",
    "# Example for the p-degree standardized moment coefficient with p=3 and mu=mean of the data\n",
    "print(\"PSMC(X, 3, mean(X)):\", p_degree_standardized_moment_coefficient(X, 3, np.median(X)))\n",
    "print(\"PSMC(Y, 3, mean(Y)):\", p_degree_standardized_moment_coefficient(Y, 3, np.median(Y)))\n",
    "print(\"PSMC(Z, 3, mean(Z)):\", p_degree_standardized_moment_coefficient(Z, 3, np.median(Z)))"
   ]
  },
  {
   "cell_type": "code",
   "execution_count": null,
   "id": "4b4de5fe-21d3-42f5-9ed2-0b7c0fd6b4b0",
   "metadata": {},
   "outputs": [],
   "source": []
  }
 ],
 "metadata": {
  "kernelspec": {
   "display_name": "Python 3 (ipykernel)",
   "language": "python",
   "name": "python3"
  },
  "language_info": {
   "codemirror_mode": {
    "name": "ipython",
    "version": 3
   },
   "file_extension": ".py",
   "mimetype": "text/x-python",
   "name": "python",
   "nbconvert_exporter": "python",
   "pygments_lexer": "ipython3",
   "version": "3.12.2"
  }
 },
 "nbformat": 4,
 "nbformat_minor": 5
}
